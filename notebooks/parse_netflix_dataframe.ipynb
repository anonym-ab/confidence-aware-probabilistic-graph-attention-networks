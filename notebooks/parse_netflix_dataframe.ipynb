{
 "cells": [
  {
   "cell_type": "code",
   "id": "initial_id",
   "metadata": {
    "collapsed": true,
    "ExecuteTime": {
     "end_time": "2025-10-16T17:47:03.722621Z",
     "start_time": "2025-10-16T17:47:03.248216Z"
    }
   },
   "source": [
    "import pandas as pd\n",
    "\n",
    "def create_dataframe_from_file(filepath):\n",
    "    data_rows = []\n",
    "    current_movie_id = None\n",
    "    with open(filepath, 'r') as f:\n",
    "        for line in f:\n",
    "            line = line.strip()\n",
    "            # Check if the line is a movie ID\n",
    "            if line.endswith(':'):\n",
    "                current_movie_id = line[:-1]\n",
    "            else:\n",
    "                # If it's a data line, process it\n",
    "                if current_movie_id:\n",
    "                    try:\n",
    "                        customer_id, rating, date = line.split(',')\n",
    "                        data_rows.append({\n",
    "                            'userId': customer_id,\n",
    "                            'itemId': current_movie_id,\n",
    "                            'rating': rating,\n",
    "                            'timestamp': date\n",
    "                        })\n",
    "                    except ValueError:\n",
    "                        # Skip lines that are not in the 'customer,rating,date' format\n",
    "                        pass\n",
    "\n",
    "    # Create DataFrame from the list of dictionaries\n",
    "    df = pd.DataFrame(data_rows)\n",
    "\n",
    "    # Convert columns to the correct data types\n",
    "    df['userId'] = pd.to_numeric(df['userId'])\n",
    "    df['itemId'] = pd.to_numeric(df['itemId'])\n",
    "    df['rating'] = pd.to_numeric(df['rating'])\n",
    "    df['timestamp'] = pd.to_datetime(df['timestamp'])\n",
    "\n",
    "    # Ensure the columns are in the desired order\n",
    "    df = df[['userId', 'itemId', 'rating', 'timestamp']]\n",
    "\n",
    "    return df\n"
   ],
   "outputs": [],
   "execution_count": 2
  },
  {
   "metadata": {
    "jupyter": {
     "is_executing": true
    },
    "ExecuteTime": {
     "start_time": "2025-10-16T17:21:12.412104Z"
    }
   },
   "cell_type": "code",
   "source": [
    "ratings_df = create_dataframe_from_file(\"../data/netflix-prize/combined_data_1.txt\")\n",
    "ratings_df.to_csv(\"../data/netflix/ratings.csv\", index=False)"
   ],
   "id": "cb52af7ca90b31cb",
   "outputs": [],
   "execution_count": null
  },
  {
   "metadata": {
    "ExecuteTime": {
     "end_time": "2025-10-16T17:47:15.202716Z",
     "start_time": "2025-10-16T17:47:14.577285Z"
    }
   },
   "cell_type": "code",
   "source": "len(ratings_df['userId'].unique())",
   "id": "ec39324660f00e7a",
   "outputs": [
    {
     "data": {
      "text/plain": [
       "470758"
      ]
     },
     "execution_count": 4,
     "metadata": {},
     "output_type": "execute_result"
    }
   ],
   "execution_count": 4
  },
  {
   "metadata": {
    "ExecuteTime": {
     "end_time": "2025-10-16T17:47:17.019655Z",
     "start_time": "2025-10-16T17:47:16.813024Z"
    }
   },
   "cell_type": "code",
   "source": "len(ratings_df['itemId'].unique())",
   "id": "7134eb5f966ba517",
   "outputs": [
    {
     "data": {
      "text/plain": [
       "4499"
      ]
     },
     "execution_count": 5,
     "metadata": {},
     "output_type": "execute_result"
    }
   ],
   "execution_count": 5
  },
  {
   "metadata": {},
   "cell_type": "code",
   "outputs": [],
   "execution_count": null,
   "source": "",
   "id": "40f005ad0a5a34b0"
  }
 ],
 "metadata": {
  "kernelspec": {
   "display_name": "Python 3",
   "language": "python",
   "name": "python3"
  },
  "language_info": {
   "codemirror_mode": {
    "name": "ipython",
    "version": 2
   },
   "file_extension": ".py",
   "mimetype": "text/x-python",
   "name": "python",
   "nbconvert_exporter": "python",
   "pygments_lexer": "ipython2",
   "version": "2.7.6"
  }
 },
 "nbformat": 4,
 "nbformat_minor": 5
}
