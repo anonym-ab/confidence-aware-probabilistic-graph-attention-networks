{
 "cells": [
  {
   "cell_type": "code",
   "id": "initial_id",
   "metadata": {
    "collapsed": true
   },
   "source": [
    "import os\n",
    "import json\n",
    "import matplotlib.pyplot as plt\n",
    "import matplotlib.cm as cm\n",
    "\n",
    "def scan_folder_for_metrics(root_folder: str) -> dict:\n",
    "\n",
    "    metrics_dict = {}\n",
    "\n",
    "    for subfolder in os.listdir(root_folder):\n",
    "        subfolder_path = os.path.join(root_folder, subfolder)\n",
    "\n",
    "        if os.path.isdir(subfolder_path):\n",
    "            try:\n",
    "                # Look for 'ranking-*.json' file\n",
    "                for filename in os.listdir(subfolder_path):\n",
    "                    if filename.startswith(\"ranking-\") and filename.endswith(\".json\"):\n",
    "                        filepath = os.path.join(subfolder_path, filename)\n",
    "                        with open(filepath, 'r') as f:\n",
    "                            metrics_data = json.load(f)\n",
    "\n",
    "                        metrics_dict[subfolder] = metrics_data\n",
    "                        break  # Assuming only one 'ranking-*.json' file per subfolder\n",
    "\n",
    "            except (ValueError, IndexError):\n",
    "                print(f\"Error parsing subfolder name: {subfolder}\")\n",
    "                continue\n",
    "\n",
    "    return metrics_dict\n",
    "\n",
    "def plot_horizontal_bar_chart(data_dict: dict, value_key: str):\n",
    "    data_names = list(data_dict.keys())\n",
    "    extracted_names = [key[:-20] for key in data_dict.keys()]\n",
    "    values = [float(data_dict[name][value_key]) for name in data_names]\n",
    "    num_bars = len(data_names)\n",
    "    \n",
    "    # Create a colormap for generating unique colors for each bar\n",
    "    cmap = cm.get_cmap('tab10')  # Choose a colormap (e.g., 'tab10', 'viridis')\n",
    "    colors = cmap(range(num_bars))  # Generate colors based on the number of bars\n",
    "    \n",
    "    plt.figure(figsize=(5, 3), dpi=300) #10,6\n",
    "    bars = plt.barh(extracted_names, values, color=colors)\n",
    "    \n",
    "    # Add value labels to the right of each bar\n",
    "    for bar, value in zip(bars, values):\n",
    "        plt.text(bar.get_width() + 0.01 * bar.get_width(), \n",
    "                 bar.get_y() + bar.get_height() / 2, \n",
    "                 f\"{value:.2f}\", \n",
    "                 va='center', \n",
    "                 fontsize=10)  # Adjust x-offset for spacing\n",
    "    \n",
    "    plt.xlabel(value_key)\n",
    "    plt.ylabel(\"Data Name\")\n",
    "    plt.grid(True, axis='x')\n",
    "    plt.show()"
   ],
   "outputs": [],
   "execution_count": null
  },
  {
   "metadata": {},
   "cell_type": "code",
   "source": "metrics = scan_folder_for_metrics(\"./runs/\")",
   "id": "559f650ccec00a75",
   "outputs": [],
   "execution_count": null
  },
  {
   "metadata": {},
   "cell_type": "code",
   "source": "metrics",
   "id": "cdd6c073382d561d",
   "outputs": [],
   "execution_count": null
  },
  {
   "metadata": {},
   "cell_type": "code",
   "source": "plot_horizontal_bar_chart(metrics, \"eval_rmse\")",
   "id": "ac30054ca8ac459c",
   "outputs": [],
   "execution_count": null
  },
  {
   "metadata": {},
   "cell_type": "code",
   "source": "plot_horizontal_bar_chart(metrics, \"eval_mae\")",
   "id": "98b4a7d5a438256a",
   "outputs": [],
   "execution_count": null
  },
  {
   "metadata": {},
   "cell_type": "code",
   "source": "plot_horizontal_bar_chart(metrics, \"eval_mean_ndcg\")",
   "id": "5ed42dabaf5b6f47",
   "outputs": [],
   "execution_count": null
  },
  {
   "metadata": {},
   "cell_type": "code",
   "source": [
    "plot_horizontal_bar_chart(metrics, \"eval_rmse\")\n",
    "plot_horizontal_bar_chart(metrics, \"eval_mae\")\n",
    "plot_horizontal_bar_chart(metrics, \"eval_mean_ndcg\")"
   ],
   "id": "5d0896f37ce03919",
   "outputs": [],
   "execution_count": null
  }
 ],
 "metadata": {
  "kernelspec": {
   "display_name": "Python 3",
   "language": "python",
   "name": "python3"
  },
  "language_info": {
   "codemirror_mode": {
    "name": "ipython",
    "version": 2
   },
   "file_extension": ".py",
   "mimetype": "text/x-python",
   "name": "python",
   "nbconvert_exporter": "python",
   "pygments_lexer": "ipython2",
   "version": "2.7.6"
  }
 },
 "nbformat": 4,
 "nbformat_minor": 5
}
