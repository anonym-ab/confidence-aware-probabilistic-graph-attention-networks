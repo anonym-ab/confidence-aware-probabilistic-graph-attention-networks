{
 "cells": [
  {
   "cell_type": "code",
   "id": "initial_id",
   "metadata": {
    "collapsed": true,
    "ExecuteTime": {
     "end_time": "2025-01-31T14:48:48.994038Z",
     "start_time": "2025-01-31T14:48:48.991462Z"
    }
   },
   "source": "import torch",
   "outputs": [],
   "execution_count": 35
  },
  {
   "metadata": {
    "ExecuteTime": {
     "end_time": "2025-01-31T13:59:10.962612Z",
     "start_time": "2025-01-31T13:59:10.960081Z"
    }
   },
   "cell_type": "code",
   "source": [
    "n_users = 10\n",
    "n_items = 15\n",
    "emb_size = 4\n",
    "\n",
    "batch_size = 3\n",
    "\n",
    "E_u = torch.randn(n_users, emb_size)\n",
    "E_i = torch.randn(n_items, emb_size)"
   ],
   "id": "5805817cbd7de86b",
   "outputs": [],
   "execution_count": 10
  },
  {
   "metadata": {
    "ExecuteTime": {
     "end_time": "2025-01-31T13:59:13.317544Z",
     "start_time": "2025-01-31T13:59:13.314535Z"
    }
   },
   "cell_type": "code",
   "source": [
    "U_idx = [0,1,2]\n",
    "I_idx = [2,1,0]"
   ],
   "id": "39d837baa72c2cda",
   "outputs": [],
   "execution_count": 11
  },
  {
   "metadata": {
    "ExecuteTime": {
     "end_time": "2025-01-31T14:13:42.702801Z",
     "start_time": "2025-01-31T14:13:42.700312Z"
    }
   },
   "cell_type": "code",
   "source": [
    "batch_U_sim_items = (E_i @ E_u.T).T / (torch.norm(E_i, p=2, dim=1) * torch.norm(E_u, p=2, dim=1)) #to each user (batch_size), we have n_items along with their level o similarity to that user.\n",
    "b_U_dis_items = 1 - batch_U_sim_items #The level of dissimilarity to each user across all items\n",
    "d_T = 0.8\n",
    "(b_U_dis_items >= d_T).int()"
   ],
   "id": "badd9583d80a1cb2",
   "outputs": [],
   "execution_count": 27
  },
  {
   "metadata": {
    "ExecuteTime": {
     "end_time": "2025-01-31T14:49:02.946825Z",
     "start_time": "2025-01-31T14:49:02.942312Z"
    }
   },
   "cell_type": "code",
   "source": "batch_U_sim_items.sum(dim=1) / n_items",
   "id": "873af0b9e00d3cff",
   "outputs": [
    {
     "data": {
      "text/plain": [
       "tensor([1.2906, 1.8987, 1.0180])"
      ]
     },
     "execution_count": 36,
     "metadata": {},
     "output_type": "execute_result"
    }
   ],
   "execution_count": 36
  },
  {
   "metadata": {
    "ExecuteTime": {
     "end_time": "2025-02-06T17:30:53.411687Z",
     "start_time": "2025-02-06T17:30:53.408922Z"
    }
   },
   "cell_type": "code",
   "source": [
    "import scipy.stats as stats\n",
    "import math"
   ],
   "id": "c414c7a9d6e20c22",
   "outputs": [],
   "execution_count": 2
  },
  {
   "metadata": {
    "ExecuteTime": {
     "end_time": "2025-02-06T17:31:05.386253Z",
     "start_time": "2025-02-06T17:31:05.379360Z"
    }
   },
   "cell_type": "code",
   "source": [
    "mu = 0\n",
    "sigma = 1\n",
    "\n",
    "stats.norm.cdf(2/math.sqrt(2), loc=mu, scale=sigma)"
   ],
   "id": "758efe0517178a06",
   "outputs": [
    {
     "data": {
      "text/plain": [
       "0.9213503964748574"
      ]
     },
     "execution_count": 3,
     "metadata": {},
     "output_type": "execute_result"
    }
   ],
   "execution_count": 3
  },
  {
   "metadata": {
    "ExecuteTime": {
     "end_time": "2025-02-06T17:31:11.213605Z",
     "start_time": "2025-02-06T17:31:11.210074Z"
    }
   },
   "cell_type": "code",
   "source": "stats.norm.cdf(-2/math.sqrt(2), loc=mu, scale=sigma)",
   "id": "5a0e3e4af066e7c8",
   "outputs": [
    {
     "data": {
      "text/plain": [
       "0.07864960352514258"
      ]
     },
     "execution_count": 4,
     "metadata": {},
     "output_type": "execute_result"
    }
   ],
   "execution_count": 4
  },
  {
   "metadata": {},
   "cell_type": "code",
   "outputs": [],
   "execution_count": null,
   "source": "",
   "id": "e7b44c6f0d2f0a5a"
  }
 ],
 "metadata": {
  "kernelspec": {
   "display_name": "Python 3",
   "language": "python",
   "name": "python3"
  },
  "language_info": {
   "codemirror_mode": {
    "name": "ipython",
    "version": 2
   },
   "file_extension": ".py",
   "mimetype": "text/x-python",
   "name": "python",
   "nbconvert_exporter": "python",
   "pygments_lexer": "ipython2",
   "version": "2.7.6"
  }
 },
 "nbformat": 4,
 "nbformat_minor": 5
}
