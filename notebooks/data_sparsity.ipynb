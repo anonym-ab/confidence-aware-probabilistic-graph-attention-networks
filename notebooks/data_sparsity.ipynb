{
 "cells": [
  {
   "cell_type": "code",
   "id": "initial_id",
   "metadata": {
    "collapsed": true
   },
   "source": [
    "import json\n",
    "import pandas as pd\n",
    "\n",
    "from recsysconfident.data_handling.datasets.amazon_products import AmazonProductsReader\n",
    "from recsysconfident.data_handling.datasets.datasetinfo import DatasetInfo\n",
    "from recsysconfident.data_handling.datasets.csv_reader import CsvReader\n",
    "from recsysconfident.data_handling.datasets.movie_lens_reader import MovieLensReader\n",
    "\n",
    "\n",
    "def print_sparsity(df, info):\n",
    "\n",
    "    n_users = len(df[info.user_col].unique())\n",
    "    n_items = len(df[info.item_col].unique())\n",
    "\n",
    "    sparsity = 1 - len(df) / (n_users * n_items)\n",
    "\n",
    "    print(f\"\"\"{info.database_name}:\n",
    "            n_users: {n_users}, n_items: {n_items}, n_interactions: {len(df)}, sparsity: {sparsity}\n",
    "            \"\"\")"
   ],
   "outputs": [],
   "execution_count": null
  },
  {
   "metadata": {},
   "cell_type": "code",
   "source": [
    "ml1m_info = DatasetInfo(**json.load(open('../data/ml-1m/info.json', 'r')),\n",
    "                     database_name='ml-1m',\n",
    "                     root_uri=\"../\")\n",
    "ml1m_df = MovieLensReader(ml1m_info).read()"
   ],
   "id": "54962fa31c2d87b8",
   "outputs": [],
   "execution_count": null
  },
  {
   "metadata": {},
   "cell_type": "code",
   "source": "print_sparsity(ml1m_df, ml1m_info)",
   "id": "e31b9cbcc9810af4",
   "outputs": [],
   "execution_count": null
  },
  {
   "metadata": {},
   "cell_type": "code",
   "source": [
    "amazon_movies_info = DatasetInfo(**json.load(open('../data/amazon-movies-tvs/info.json', 'r')),\n",
    "                              database_name='amazon-movies-tvs',\n",
    "                              root_uri=\"..\")\n",
    "amazon_movies_df = AmazonProductsReader(amazon_movies_info).read()"
   ],
   "id": "ac6952f649d0be90",
   "outputs": [],
   "execution_count": null
  },
  {
   "metadata": {},
   "cell_type": "code",
   "source": "print_sparsity(amazon_movies_df, amazon_movies_info)",
   "id": "182e3bc8fc214adb",
   "outputs": [],
   "execution_count": null
  },
  {
   "metadata": {},
   "cell_type": "code",
   "source": [
    "netflix_info = DatasetInfo(**json.load(open('../data/netflix-prize/info.json', 'r')),\n",
    "                            database_name='netflix-prize',\n",
    "                            root_uri=\"..\")\n",
    "netflix_df = CsvReader(netflix_info).read()"
   ],
   "id": "87badf639f1c5340",
   "outputs": [],
   "execution_count": null
  },
  {
   "metadata": {},
   "cell_type": "code",
   "source": "print_sparsity(netflix_df, netflix_info)",
   "id": "f5d98533ec7d0ec4",
   "outputs": [],
   "execution_count": null
  },
  {
   "metadata": {},
   "cell_type": "code",
   "source": "",
   "id": "101039948c7babab",
   "outputs": [],
   "execution_count": null
  },
  {
   "metadata": {
    "ExecuteTime": {
     "end_time": "2025-10-21T19:19:00.251717Z",
     "start_time": "2025-10-21T19:18:56.546765Z"
    }
   },
   "cell_type": "code",
   "source": [
    "import torch\n",
    "print(hasattr(torch.special, \"betainc\"))"
   ],
   "id": "ca7652857652fb59",
   "outputs": [
    {
     "name": "stdout",
     "output_type": "stream",
     "text": [
      "False\n"
     ]
    }
   ],
   "execution_count": 1
  },
  {
   "metadata": {},
   "cell_type": "code",
   "outputs": [],
   "execution_count": null,
   "source": "",
   "id": "8240adc9e6f8cf3d"
  }
 ],
 "metadata": {
  "kernelspec": {
   "display_name": "Python 3",
   "language": "python",
   "name": "python3"
  },
  "language_info": {
   "codemirror_mode": {
    "name": "ipython",
    "version": 2
   },
   "file_extension": ".py",
   "mimetype": "text/x-python",
   "name": "python",
   "nbconvert_exporter": "python",
   "pygments_lexer": "ipython2",
   "version": "2.7.6"
  }
 },
 "nbformat": 4,
 "nbformat_minor": 5
}
