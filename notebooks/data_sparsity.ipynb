{
 "cells": [
  {
   "cell_type": "code",
   "id": "initial_id",
   "metadata": {
    "collapsed": true
   },
   "source": [
    "import json\n",
    "\n",
    "from recsysconfident.data_handling.datasets.amazon_products import AmazonProductsReader\n",
    "from recsysconfident.data_handling.datasets.datasetinfo import Datasets\n",
    "from recsysconfident.data_handling.datasets.jester_joke_reader import JesterJokeReader\n",
    "from recsysconfident.data_handling.datasets.movie_lens_reader import MovieLensReader\n"
   ],
   "outputs": [],
   "execution_count": null
  },
  {
   "metadata": {},
   "cell_type": "code",
   "source": [
    "ml1m_info = Datasets(**json.load(open('../data/ml-1m/info.json', 'r')),\n",
    "                     database_name='ml-1m',\n",
    "                     root_uri=\"../\")\n",
    "ml1m_df = MovieLensReader(ml1m_info).read()"
   ],
   "id": "54962fa31c2d87b8",
   "outputs": [],
   "execution_count": null
  },
  {
   "metadata": {},
   "cell_type": "code",
   "source": [
    "ml_1m_sparsity = 1 - len(ml1m_df) / (len(ml1m_df[ml1m_info.user_col].unique()) * len(ml1m_df[ml1m_info.item_col].unique()))\n",
    "ml_1m_sparsity"
   ],
   "id": "744b88bf76f14639",
   "outputs": [],
   "execution_count": null
  },
  {
   "metadata": {},
   "cell_type": "code",
   "source": "ml1m_df.describe()",
   "id": "f657cf4ac7cb379f",
   "outputs": [],
   "execution_count": null
  },
  {
   "metadata": {},
   "cell_type": "code",
   "source": [
    "amazon_beauty_info = Datasets(**json.load(open('../data/amazon-beauty/info.json', 'r')),\n",
    "                              database_name='amazon-beauty',\n",
    "                              root_uri=\"..\")\n",
    "amazon_beauty_df = AmazonProductsReader(amazon_beauty_info).read()"
   ],
   "id": "815f516ebf7417fb",
   "outputs": [],
   "execution_count": null
  },
  {
   "metadata": {},
   "cell_type": "code",
   "source": [
    "amazon_beauty_sparsity = 1 - len(amazon_beauty_df) / (len(amazon_beauty_df[amazon_beauty_info.user_col].unique()) * len(amazon_beauty_df[amazon_beauty_info.item_col].unique()))\n",
    "amazon_beauty_sparsity"
   ],
   "id": "d807cc16999639fa",
   "outputs": [],
   "execution_count": null
  },
  {
   "metadata": {},
   "cell_type": "code",
   "source": "amazon_beauty_df.describe()",
   "id": "1017723e18261f65",
   "outputs": [],
   "execution_count": null
  },
  {
   "metadata": {},
   "cell_type": "code",
   "source": [
    "jester_joke_info = Datasets(**json.load(open('../data/jester-joke/info.json', 'r')),\n",
    "                            database_name='jester-joke',\n",
    "                            root_uri=\"..\")\n",
    "jester_joke_df = JesterJokeReader(jester_joke_info, \"ratings.csv\").read()"
   ],
   "id": "87badf639f1c5340",
   "outputs": [],
   "execution_count": null
  },
  {
   "metadata": {},
   "cell_type": "code",
   "source": "jester_joke_df.describe()",
   "id": "51ae05bf9cccd595",
   "outputs": [],
   "execution_count": null
  },
  {
   "metadata": {},
   "cell_type": "code",
   "source": [
    "jester_joke_sparsity = 1 - len(jester_joke_df) / (len(jester_joke_df[jester_joke_info.user_col].unique()) * len(jester_joke_df[jester_joke_info.item_col].unique()))\n",
    "jester_joke_sparsity"
   ],
   "id": "f5d98533ec7d0ec4",
   "outputs": [],
   "execution_count": null
  },
  {
   "metadata": {},
   "cell_type": "code",
   "source": "",
   "id": "d0c522d37e2cd95a",
   "outputs": [],
   "execution_count": null
  }
 ],
 "metadata": {
  "kernelspec": {
   "display_name": "Python 3",
   "language": "python",
   "name": "python3"
  },
  "language_info": {
   "codemirror_mode": {
    "name": "ipython",
    "version": 2
   },
   "file_extension": ".py",
   "mimetype": "text/x-python",
   "name": "python",
   "nbconvert_exporter": "python",
   "pygments_lexer": "ipython2",
   "version": "2.7.6"
  }
 },
 "nbformat": 4,
 "nbformat_minor": 5
}
